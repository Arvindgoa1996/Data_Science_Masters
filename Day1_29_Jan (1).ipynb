{
 "cells": [
  {
   "cell_type": "code",
   "execution_count": null,
   "id": "e24c1508-8c29-483a-a276-0e2c78de8363",
   "metadata": {},
   "outputs": [],
   "source": [
    "# this is the way to write single line comment #\n",
    "# here, you use hass tag for defining the markup statement you want to include in the code as comment#\n",
    "\n",
    "\"\"\"\n",
    "by writing such a statement, here it is an option for writing a multi line comment\n",
    "you need not need to enter the hass tag again and again to write multiple lines as comment\n",
    "just insert inverted comma and your job is done \n",
    "\"\"\"\n",
    "\n",
    "# refer to python documentation whenever required \n",
    "\n",
    "# starting to use markdown \n",
    "\n",
    "# hello\n",
    "## hello\n",
    "### hello"
   ]
  },
  {
   "cell_type": "raw",
   "id": "7cbb4bdc-5e18-4a71-8a13-bdabe4410b1a",
   "metadata": {},
   "source": []
  },
  {
   "cell_type": "markdown",
   "id": "7da4d7fc-c809-4970-bc15-bc79b0ec77f2",
   "metadata": {},
   "source": [
    "# Numbers "
   ]
  },
  {
   "cell_type": "code",
   "execution_count": 1,
   "id": "96cee5b7-2edb-438d-ab22-2ebf77984407",
   "metadata": {
    "tags": []
   },
   "outputs": [
    {
     "data": {
      "text/plain": [
       "2"
      ]
     },
     "execution_count": 1,
     "metadata": {},
     "output_type": "execute_result"
    }
   ],
   "source": [
    "1+1"
   ]
  },
  {
   "cell_type": "code",
   "execution_count": 2,
   "id": "b0b7c50b-0be5-4690-b5c9-08f0b0432eac",
   "metadata": {},
   "outputs": [
    {
     "name": "stdout",
     "output_type": "stream",
     "text": [
      "2\n"
     ]
    }
   ],
   "source": [
    "print(1+1)"
   ]
  },
  {
   "cell_type": "code",
   "execution_count": 3,
   "id": "2aac4e85-c464-4677-a5a7-014ef52f496a",
   "metadata": {},
   "outputs": [
    {
     "name": "stdout",
     "output_type": "stream",
     "text": [
      "hello World \n"
     ]
    }
   ],
   "source": [
    "# lets study the print statement\n",
    "print(\"hello World \")\n"
   ]
  },
  {
   "cell_type": "code",
   "execution_count": null,
   "id": "0ecf5f96-1876-4cfd-a40e-1a95a1b0605e",
   "metadata": {},
   "outputs": [],
   "source": [
    "# if you want to know more about the built in functions which you are willing to use in your code just click on the function and press shift+tab to read the documentation"
   ]
  },
  {
   "cell_type": "code",
   "execution_count": 4,
   "id": "d1bda6fd-8f92-4c00-b3f5-98563d8efec6",
   "metadata": {},
   "outputs": [
    {
     "name": "stdout",
     "output_type": "stream",
     "text": [
      "you can also continue writing a long code on the next line by simply writing \n",
      " anbd the code will be continued in the next line\n"
     ]
    }
   ],
   "source": [
    "print('you can also continue writing a long code on the next line by simply writing \\n anbd the code will be continued in the next line')\n"
   ]
  },
  {
   "cell_type": "markdown",
   "id": "2c19dec6-b592-4767-a0dd-ce8328ed39ed",
   "metadata": {},
   "source": [
    "# Variable assignment"
   ]
  },
  {
   "cell_type": "code",
   "execution_count": 8,
   "id": "9ea996c7-28d1-403c-822f-3ac83b2ae2ac",
   "metadata": {},
   "outputs": [
    {
     "data": {
      "text/plain": [
       "complex"
      ]
     },
     "execution_count": 8,
     "metadata": {},
     "output_type": "execute_result"
    }
   ],
   "source": [
    "name = \"Arvind\"\n",
    "Class = 'MPI'\n",
    "\n",
    "#time to check the type of the variable assigned\n",
    "type (Class)\n",
    "\n",
    "number = 10\n",
    "type (number)\n",
    "\n",
    "decimal_number = 2.5\n",
    "type (decimal_number)\n",
    "\n",
    "complex_num= 2+2j\n",
    "type(complex_num)"
   ]
  },
  {
   "cell_type": "code",
   "execution_count": 11,
   "id": "a0a207aa-f953-4372-8a56-f037f99b3162",
   "metadata": {},
   "outputs": [
    {
     "name": "stdout",
     "output_type": "stream",
     "text": [
      "10\n",
      "15\n"
     ]
    }
   ],
   "source": [
    "## bad way to assign a variable \n",
    "#1a\n",
    "#3ans\n",
    "### TIP:1 dont start the variable name with a number \n",
    "\n",
    "## good way examples\n",
    "number1 = 10\n",
    "Number1 = 15\n",
    "\n",
    "# TIP:2 variables are case sensitive hence care to be taken while assigning the variables \n",
    "print (number1)\n",
    "print (Number1)\n",
    "\n"
   ]
  },
  {
   "cell_type": "code",
   "execution_count": null,
   "id": "ad862b85-484c-4e95-9653-f6bb628f1dd1",
   "metadata": {},
   "outputs": [],
   "source": [
    "## reserved key words\n",
    "\"\"\"\n",
    "there are many reserved key words like int, print, float, return\n",
    "there should not be used for assigning the variables as it get ressigned to the pre-exhisting variables in the system\n",
    "so we should avoid using it \n",
    "\"\"\""
   ]
  },
  {
   "cell_type": "markdown",
   "id": "bbf7b28d-abe8-4fcd-b165-7633e23e205d",
   "metadata": {},
   "source": [
    "# boolean Logic"
   ]
  },
  {
   "cell_type": "code",
   "execution_count": 12,
   "id": "16de9241-aa79-45cd-9190-a5136adac6db",
   "metadata": {},
   "outputs": [
    {
     "name": "stdout",
     "output_type": "stream",
     "text": [
      "True\n"
     ]
    }
   ],
   "source": [
    "# converting a number into boolean is typecasting\n",
    "\n",
    "bool (0)\n",
    "bool (1)\n",
    "\n",
    "#Converting number into string \n",
    "\n",
    "a=10\n",
    "if bool (a) == True:\n",
    "    print(\"True\")\n",
    "    \n"
   ]
  },
  {
   "cell_type": "markdown",
   "id": "ee8d3fe4-a74d-454b-85e8-778fdc9bbbe6",
   "metadata": {},
   "source": [
    "Dynamic typing"
   ]
  },
  {
   "cell_type": "code",
   "execution_count": null,
   "id": "a2f7733c-72a0-49fd-8049-9a0a1057b597",
   "metadata": {},
   "outputs": [],
   "source": [
    "# in the rune time ehatever variable, the valu you assign to the variable, the value is picked up by the interpreter in the run time\n",
    "a =  12\n",
    "str1 = \"Very\"\n",
    "a = \"variable\"\n",
    "\n",
    "print(type(a))\n"
   ]
  },
  {
   "cell_type": "markdown",
   "id": "7db975e5-5ae0-4b95-936c-494922961626",
   "metadata": {},
   "source": [
    "Concatenation between different types\n"
   ]
  },
  {
   "cell_type": "code",
   "execution_count": 13,
   "id": "197cc903-1ce9-4c10-b382-613997df6107",
   "metadata": {},
   "outputs": [
    {
     "data": {
      "text/plain": [
       "2"
      ]
     },
     "execution_count": 13,
     "metadata": {},
     "output_type": "execute_result"
    }
   ],
   "source": [
    "'1' + '1' #Ans:11\n",
    "int('1') + int('1') # Ans:2"
   ]
  },
  {
   "cell_type": "code",
   "execution_count": null,
   "id": "04cb0da6-1aad-41ca-854c-8a9757c5b353",
   "metadata": {},
   "outputs": [],
   "source": [
    "int('1') * '1' # error\n",
    "'1' * '1' # error\n",
    "'1'*100 = 111111111 #(hundred times 1)"
   ]
  },
  {
   "cell_type": "code",
   "execution_count": null,
   "id": "45ff5187-bb4d-42dc-8998-72a0800b4766",
   "metadata": {},
   "outputs": [],
   "source": []
  }
 ],
 "metadata": {
  "kernelspec": {
   "display_name": "Python 3 (ipykernel)",
   "language": "python",
   "name": "python3"
  },
  "language_info": {
   "codemirror_mode": {
    "name": "ipython",
    "version": 3
   },
   "file_extension": ".py",
   "mimetype": "text/x-python",
   "name": "python",
   "nbconvert_exporter": "python",
   "pygments_lexer": "ipython3",
   "version": "3.10.8"
  }
 },
 "nbformat": 4,
 "nbformat_minor": 5
}
