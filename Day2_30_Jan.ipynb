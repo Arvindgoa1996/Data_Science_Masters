{
 "cells": [
  {
   "cell_type": "markdown",
   "id": "2b0245a9-bcde-4ef8-b178-65157d4b6470",
   "metadata": {},
   "source": [
    "# important print statement \n"
   ]
  },
  {
   "cell_type": "code",
   "execution_count": 1,
   "id": "7f813a94-ae85-43b2-8374-7c2f123c2241",
   "metadata": {},
   "outputs": [
    {
     "name": "stdout",
     "output_type": "stream",
     "text": [
      "hello world\n"
     ]
    }
   ],
   "source": [
    "print(\"hello world\")"
   ]
  },
  {
   "cell_type": "code",
   "execution_count": 7,
   "id": "6969628d-85ab-4ccd-a218-44db98e278f7",
   "metadata": {},
   "outputs": [
    {
     "name": "stdout",
     "output_type": "stream",
     "text": [
      "123\n"
     ]
    }
   ],
   "source": [
    "print(123) #123 displayed"
   ]
  },
  {
   "cell_type": "code",
   "execution_count": 3,
   "id": "e09b6ffc-9d1f-4dbb-99fe-3f9e4af7bf15",
   "metadata": {},
   "outputs": [
    {
     "ename": "NameError",
     "evalue": "name 'abcd' is not defined",
     "output_type": "error",
     "traceback": [
      "\u001b[0;31m---------------------------------------------------------------------------\u001b[0m",
      "\u001b[0;31mNameError\u001b[0m                                 Traceback (most recent call last)",
      "Cell \u001b[0;32mIn[3], line 1\u001b[0m\n\u001b[0;32m----> 1\u001b[0m \u001b[38;5;28mprint\u001b[39m(\u001b[43mabcd\u001b[49m)\n",
      "\u001b[0;31mNameError\u001b[0m: name 'abcd' is not defined"
     ]
    }
   ],
   "source": [
    "print(abcd) #will not be executed as consiting of string characters which wouldnt be read by the compiler"
   ]
  },
  {
   "cell_type": "code",
   "execution_count": 4,
   "id": "2cc1bfc6-986f-4570-9dfc-9a6c81a4c3ac",
   "metadata": {},
   "outputs": [
    {
     "name": "stdout",
     "output_type": "stream",
     "text": [
      "my age is : 32\n"
     ]
    }
   ],
   "source": [
    "age = 32\n",
    "print(\"my age is :\",age)"
   ]
  },
  {
   "cell_type": "code",
   "execution_count": 6,
   "id": "5bd2cc6c-1d7d-4c75-a99f-21c2fe2d11aa",
   "metadata": {},
   "outputs": [
    {
     "name": "stdout",
     "output_type": "stream",
     "text": [
      "my age is : {age} \n"
     ]
    }
   ],
   "source": [
    "print(\"my age is : {age} \") # output : my age is : {age} "
   ]
  },
  {
   "cell_type": "code",
   "execution_count": 8,
   "id": "2c947dbb-5741-40fa-a3e7-22586350c283",
   "metadata": {},
   "outputs": [
    {
     "name": "stdout",
     "output_type": "stream",
     "text": [
      "my age is : 32 \n"
     ]
    }
   ],
   "source": [
    "# fstring used for calling variable within string \n",
    "print(f\"my age is : {age} \") # output my age is : 32 "
   ]
  },
  {
   "cell_type": "code",
   "execution_count": 9,
   "id": "e21a4857-2f2c-44cb-8c34-57fa8c46de9a",
   "metadata": {},
   "outputs": [
    {
     "name": "stdout",
     "output_type": "stream",
     "text": [
      "my name is Arvind and age is 26\n"
     ]
    }
   ],
   "source": [
    "## format ()\n",
    "# any programming language should start from zero\n",
    "name = \"Arvind\"\n",
    "age = 26\n",
    "print(\"my name is {} and age is {}\".format(name,age))"
   ]
  },
  {
   "cell_type": "code",
   "execution_count": 10,
   "id": "3ba15902-79c2-4f73-a0b6-974fc7543193",
   "metadata": {},
   "outputs": [
    {
     "name": "stdout",
     "output_type": "stream",
     "text": [
      "my name is 26 and age is Arvind\n"
     ]
    }
   ],
   "source": [
    "print(\"my name is {} and age is {}\".format(age,name))"
   ]
  },
  {
   "cell_type": "code",
   "execution_count": 11,
   "id": "36e85f23-c586-4152-a8f7-5989f9cba805",
   "metadata": {},
   "outputs": [
    {
     "name": "stdout",
     "output_type": "stream",
     "text": [
      "my name is Arvind and age is 26\n"
     ]
    }
   ],
   "source": [
    "#placeholder\n",
    "print(\"my name is {firstname} and age is {firstage}\".format(firstname =name ,firstage = age))"
   ]
  },
  {
   "cell_type": "code",
   "execution_count": 15,
   "id": "934bbbc6-371e-4623-923c-45fe9303bb9d",
   "metadata": {},
   "outputs": [
    {
     "name": "stdout",
     "output_type": "stream",
     "text": [
      "my age is 26 and I have completed my degree of B.Tech with the name of Arvind\n"
     ]
    }
   ],
   "source": [
    "name = 'Arvind'\n",
    "age = '26'\n",
    "degree='B.Tech'\n",
    "print(\"my age is {fage} and I have completed my degree of {fdegree} with the name of {fname}\".format(fage=age,fdegree=degree, fname=name))"
   ]
  },
  {
   "cell_type": "markdown",
   "id": "e8f7fd06-c291-4d63-8880-6b9c481d9157",
   "metadata": {},
   "source": [
    "## control Flow\n",
    "### Decision Making statements\n"
   ]
  },
  {
   "cell_type": "code",
   "execution_count": 1,
   "id": "b104b994-0bab-4cf7-8678-6e8e34183a64",
   "metadata": {},
   "outputs": [
    {
     "name": "stdout",
     "output_type": "stream",
     "text": [
      "you are eliglible to vote\n"
     ]
    },
    {
     "data": {
      "text/plain": [
       "'\\n== equall to \\n<= less than equall to \\n> greater than equall to \\n'"
      ]
     },
     "execution_count": 1,
     "metadata": {},
     "output_type": "execute_result"
    }
   ],
   "source": [
    "# if statement \n",
    "age = 18 \n",
    "if age >= 18 :\n",
    "    print('you are eliglible to vote')\n",
    "\n",
    "\"\"\"\n",
    "== equall to \n",
    "<= less than equall to \n",
    "> greater than equall to \n",
    "\"\"\""
   ]
  },
  {
   "cell_type": "code",
   "execution_count": 5,
   "id": "2d033f05-ee7e-4846-a410-8a45010ff3f8",
   "metadata": {},
   "outputs": [
    {
     "name": "stdout",
     "output_type": "stream",
     "text": [
      "you are not eliglible to vote\n"
     ]
    }
   ],
   "source": [
    "age = 17\n",
    "if age < 18 :\n",
    "    print('you are not eliglible to vote')"
   ]
  },
  {
   "cell_type": "code",
   "execution_count": 6,
   "id": "3608af3e-aa40-4ace-aec2-dbdfec420012",
   "metadata": {},
   "outputs": [
    {
     "name": "stdin",
     "output_type": "stream",
     "text": [
      "Enter the name  RVD\n"
     ]
    }
   ],
   "source": [
    "name = input(\"Enter the name \")"
   ]
  },
  {
   "cell_type": "code",
   "execution_count": 7,
   "id": "06a55562-384a-4e57-8799-2c70e3758d4a",
   "metadata": {},
   "outputs": [
    {
     "data": {
      "text/plain": [
       "'RVD'"
      ]
     },
     "execution_count": 7,
     "metadata": {},
     "output_type": "execute_result"
    }
   ],
   "source": [
    "name"
   ]
  },
  {
   "cell_type": "code",
   "execution_count": 8,
   "id": "56eccfb9-9d4d-406f-ab63-4ed3d1d3694c",
   "metadata": {},
   "outputs": [
    {
     "name": "stdin",
     "output_type": "stream",
     "text": [
      "Enter your age 32\n"
     ]
    }
   ],
   "source": [
    "#typecasting for entering the integer value\n",
    "age = int(input('Enter your age'))"
   ]
  },
  {
   "cell_type": "code",
   "execution_count": 13,
   "id": "650c2008-1449-4338-9898-60753270eeed",
   "metadata": {},
   "outputs": [
    {
     "data": {
      "text/plain": [
       "22"
      ]
     },
     "execution_count": 13,
     "metadata": {},
     "output_type": "execute_result"
    }
   ],
   "source": [
    "age"
   ]
  },
  {
   "cell_type": "code",
   "execution_count": 10,
   "id": "fad5887d-d146-49a6-8adf-b2398322699a",
   "metadata": {},
   "outputs": [
    {
     "data": {
      "text/plain": [
       "int"
      ]
     },
     "execution_count": 10,
     "metadata": {},
     "output_type": "execute_result"
    }
   ],
   "source": [
    "type(age)"
   ]
  },
  {
   "cell_type": "markdown",
   "id": "d7621408-4085-47ac-9118-c478e28298f1",
   "metadata": {},
   "source": [
    "## Tasks for Practice \n",
    "### Take an input \n",
    "### Check if age >= 18 and less than <=42\n",
    "### you are young blood "
   ]
  },
  {
   "cell_type": "code",
   "execution_count": 16,
   "id": "072944bf-4edc-4748-acc2-00bca1b4a10b",
   "metadata": {},
   "outputs": [
    {
     "ename": "SyntaxError",
     "evalue": "invalid syntax (776238528.py, line 4)",
     "output_type": "error",
     "traceback": [
      "\u001b[0;36m  Cell \u001b[0;32mIn[16], line 4\u001b[0;36m\u001b[0m\n\u001b[0;31m    else print(\"you are still getting younger\")\u001b[0m\n\u001b[0m    ^\u001b[0m\n\u001b[0;31mSyntaxError\u001b[0m\u001b[0;31m:\u001b[0m invalid syntax\n"
     ]
    }
   ],
   "source": [
    "#if statemet \n",
    "age = int(input(\"Enter your age = \"))\n",
    "if age >= 18 and age <= 45:\n",
    "    print(\"you are young blood\")"
   ]
  },
  {
   "cell_type": "code",
   "execution_count": 17,
   "id": "f42b0524-8b07-4b43-af6c-be65f615c60d",
   "metadata": {},
   "outputs": [
    {
     "name": "stdin",
     "output_type": "stream",
     "text": [
      "Enter your age =  55\n"
     ]
    },
    {
     "name": "stdout",
     "output_type": "stream",
     "text": [
      " thank you for the entry. \n",
      " We would let you know\n"
     ]
    }
   ],
   "source": [
    "## if else statement\n",
    "age = int(input(\"Enter your age = \"))\n",
    "if age >= 18 and age <= 45:\n",
    "    print(\"you are young blood\")\n",
    "else:\n",
    "    print(\" Thank you for the entry. \\n We would let you know\")"
   ]
  },
  {
   "cell_type": "code",
   "execution_count": null,
   "id": "16020e87-d244-4039-a62e-e2c3b6a2d74f",
   "metadata": {},
   "outputs": [],
   "source": [
    "# mall sale offer is going onn \n",
    "## input product price\n",
    "## money > 1000 rs, 20% off\n",
    "## money spent < 1000 rs, 30% off \n",
    "## print final product price"
   ]
  },
  {
   "cell_type": "code",
   "execution_count": 19,
   "id": "bdfd648c-672c-4086-973b-51166f8b603e",
   "metadata": {},
   "outputs": [
    {
     "name": "stdin",
     "output_type": "stream",
     "text": [
      "Enter the amount spent in shopping:  552\n"
     ]
    },
    {
     "name": "stdout",
     "output_type": "stream",
     "text": [
      "the Final amount is: 386\n"
     ]
    }
   ],
   "source": [
    "amount = int(input(\"Enter the amount spent in shopping: \"))\n",
    "if amount >= 1000:\n",
    "    print(\"you are Eligible for 20% discount\")\n",
    "    print(\"the Final amount is: {}\".format(int(amount*0.8)))\n",
    "else:\n",
    "    print(\"the Final amount is: {}\".format(int(amount*0.7)))"
   ]
  },
  {
   "cell_type": "markdown",
   "id": "34c3299b-f6da-4c7a-bf2f-5208d9e54265",
   "metadata": {},
   "source": [
    "# mall sale offer is going onn \n",
    "## input product price\n",
    "## money <= 2000 40% off\n",
    "## money > 2000 rs, <= 3000 30% off\n",
    "## money > 3000 rs,  20% off\n",
    "## print final product price"
   ]
  },
  {
   "cell_type": "code",
   "execution_count": 22,
   "id": "de05c53d-83b5-40ae-85fa-6f0369036206",
   "metadata": {},
   "outputs": [
    {
     "name": "stdin",
     "output_type": "stream",
     "text": [
      "Enter the amount spent in shopping:  2500\n"
     ]
    },
    {
     "name": "stdout",
     "output_type": "stream",
     "text": [
      "you are Eligible for 30% discount.\n",
      " The Final amount is: 1750.0\n"
     ]
    }
   ],
   "source": [
    "amount = int(input(\"Enter the amount spent in shopping: \"))\n",
    "if amount >= 3000:\n",
    "    print(\"you are Eligible for 20% discount.\\n The Final amount is: {}\".format(int(amount*0.8)))\n",
    "elif amount >= 2000 and amount <= 3000: \n",
    "    print(f\"you are Eligible for 30% discount.\\n The Final amount is: {amount*0.7}\")\n",
    "else:\n",
    "    print(\"you are Eligible for 40% discount.\\n The Final amount is: {}\".format(int(amount*0.6)))"
   ]
  },
  {
   "cell_type": "markdown",
   "id": "927ddbd6-92d7-4be2-a955-cb77e3fd5446",
   "metadata": {},
   "source": [
    "# mall sale offer is going onn \n",
    "## input product price\n",
    "## money >100 and <= 2000 40% off\n",
    "## money > 2000 rs, <= 3000 30% off\n",
    "if price = 2999, you won a suitcase \n",
    "## money > 3000 rs,  20% off\n",
    "\n",
    "## print final product price"
   ]
  },
  {
   "cell_type": "code",
   "execution_count": 26,
   "id": "3ba5f0a2-71e1-4d8b-99cf-91b5d90ead4a",
   "metadata": {},
   "outputs": [
    {
     "name": "stdin",
     "output_type": "stream",
     "text": [
      "Enter the amount spent in shopping:  50\n"
     ]
    },
    {
     "name": "stdout",
     "output_type": "stream",
     "text": [
      "Tera kuch nahi ho sakta\n"
     ]
    }
   ],
   "source": [
    "amount = int(input(\"Enter the amount spent in shopping: \"))\n",
    "if amount >= 3000:\n",
    "    print(\"you are Eligible for 20% discount.\\n The Final amount is: {}\".format(int(amount*0.8)))\n",
    "elif amount >= 2000 and amount <= 3000: \n",
    "    if amount == 2999:\n",
    "        print(\"Congratulations, you have won an additional gift of a suitcase worth rupees 3000\")\n",
    "    print(f\"you are Eligible for 30% discount.\\n The Final amount is: {amount*0.7}\")\n",
    "elif amount >= 100 and amount <= 2000:\n",
    "    print(\"you are Eligible for 40% discount.\\n The Final amount is: {}\".format(int(amount*0.6)))\n",
    "else:\n",
    "    print(\"Tera kuch nahi ho sakta\")"
   ]
  },
  {
   "cell_type": "code",
   "execution_count": 1,
   "id": "84c0dd59-4704-4d7d-a27d-33cfc350bd8d",
   "metadata": {},
   "outputs": [
    {
     "name": "stdin",
     "output_type": "stream",
     "text": [
      "Enter the value 555\n"
     ]
    },
    {
     "name": "stdout",
     "output_type": "stream",
     "text": [
      "value is less than or equall to 999\n"
     ]
    }
   ],
   "source": [
    "# Single statement suites\n",
    "val = int(input(\"Enter the value\"))\n",
    "if (val<=999):print(\"value is less than or equall to 999\")\n",
    "else:\n",
    "    print('go home')"
   ]
  },
  {
   "cell_type": "markdown",
   "id": "0db94561-a9bf-4a06-978a-4ad0f7a097ee",
   "metadata": {},
   "source": [
    "## loop statements\n",
    "1. while\n",
    "2. for \n",
    "3. nested\n",
    "4. loop control (break,continue, pass)"
   ]
  },
  {
   "cell_type": "code",
   "execution_count": 2,
   "id": "b64c2399-d229-42a5-9048-b8928fed65a0",
   "metadata": {},
   "outputs": [
    {
     "name": "stdout",
     "output_type": "stream",
     "text": [
      "26\n",
      "27\n",
      "28\n",
      "29\n",
      "30\n",
      "31\n",
      "32\n",
      "33\n",
      "34\n",
      "35\n",
      "36\n",
      "37\n",
      "38\n",
      "39\n",
      "40\n",
      "41\n",
      "42\n",
      "43\n",
      "44\n",
      "45\n",
      "46\n",
      "47\n",
      "48\n",
      "49\n",
      "50\n",
      "51\n",
      "52\n",
      "53\n",
      "54\n",
      "55\n",
      "56\n",
      "57\n",
      "58\n",
      "59\n",
      "60\n",
      "61\n",
      "sorry its time to retire\n"
     ]
    }
   ],
   "source": [
    "# while-else loop\n",
    "joining_age=25\n",
    "while joining_age<=60:\n",
    "    joining_age = joining_age+1\n",
    "    print(joining_age)\n",
    "else:\n",
    "    print(\"sorry its time to retire\")\n",
    "# the loop will keep running tuntill the condition is valid    "
   ]
  },
  {
   "cell_type": "code",
   "execution_count": 3,
   "id": "b51662bb-2761-4768-a067-413339abd3b7",
   "metadata": {},
   "outputs": [
    {
     "name": "stdout",
     "output_type": "stream",
     "text": [
      "1000\n",
      "900\n",
      "800\n",
      "700\n",
      "600\n",
      "500\n",
      "400\n",
      "300\n",
      "200\n",
      "100\n"
     ]
    }
   ],
   "source": [
    "#atm machine example of while-else loop\n",
    "total_amount = 1000\n",
    "while total_amount !=0:\n",
    "    print(total_amount)\n",
    "    total_amount=total_amount-100\n",
    "else:\n",
    "    print('paisa bharo bank walon..!!')\n",
    "    "
   ]
  },
  {
   "cell_type": "markdown",
   "id": "a8d11f57-f46b-4ea7-97af-01e2b72ee5b0",
   "metadata": {},
   "source": [
    "# for loop"
   ]
  },
  {
   "cell_type": "code",
   "execution_count": 7,
   "id": "5f799c37-cc2d-4f9b-b30e-715df1dc26be",
   "metadata": {},
   "outputs": [
    {
     "name": "stdout",
     "output_type": "stream",
     "text": [
      "apple\n",
      "mango\n",
      "we are mango people\n"
     ]
    }
   ],
   "source": [
    "lst = ['apple','mango', 'banana',1,2,3,4,5]\n",
    "for x in lst:\n",
    "    print(x)\n",
    "    if x == 'mango':\n",
    "        print('we are mango people')\n",
    "        break"
   ]
  },
  {
   "cell_type": "code",
   "execution_count": 8,
   "id": "cd6e9078-9292-4fc7-b599-706a061bdfa3",
   "metadata": {},
   "outputs": [
    {
     "name": "stdout",
     "output_type": "stream",
     "text": [
      "mango"
     ]
    }
   ],
   "source": [
    "fruit= 'mango' #finding the elements in the words\n",
    "for x in fruit:\n",
    "    print(x,end='')\n",
    "fruit[2]"
   ]
  },
  {
   "cell_type": "code",
   "execution_count": 9,
   "id": "ab2ba91e-a0d2-4ee4-bfbc-61f95b9ec0b7",
   "metadata": {},
   "outputs": [
    {
     "data": {
      "text/plain": [
       "'n'"
      ]
     },
     "execution_count": 9,
     "metadata": {},
     "output_type": "execute_result"
    }
   ],
   "source": [
    "# nested loops\n",
    "n = 7\n",
    "\n",
    "for i in range(1,6): # step size is 1\n",
    "    print(i)"
   ]
  },
  {
   "cell_type": "code",
   "execution_count": 9,
   "id": "0104d37a-fb6d-4ef6-a984-d553164c2bd9",
   "metadata": {},
   "outputs": [
    {
     "data": {
      "text/plain": [
       "'n'"
      ]
     },
     "execution_count": 9,
     "metadata": {},
     "output_type": "execute_result"
    }
   ],
   "source": [
    "\n",
    "for i in range(1,6,2): # step size is 2\n",
    "    print(i)\n"
   ]
  },
  {
   "cell_type": "code",
   "execution_count": 10,
   "id": "bbb79d1b-971b-4666-8850-e45b09ad958d",
   "metadata": {},
   "outputs": [
    {
     "name": "stdout",
     "output_type": "stream",
     "text": [
      "*\n",
      "**\n",
      "***\n",
      "****\n",
      "*****\n",
      "******\n",
      "*******\n"
     ]
    }
   ],
   "source": [
    "n =7\n",
    "\n",
    "for i in range (0,n):\n",
    "    for j in range (0,i+1):\n",
    "        print('*', end='')\n",
    "    print('\\r')"
   ]
  },
  {
   "cell_type": "code",
   "execution_count": 11,
   "id": "4e49a9ba-b10f-4b1c-9fb7-3613d97e3b13",
   "metadata": {},
   "outputs": [],
   "source": [
    "# loop control\n",
    "## break and continue\n",
    "fruit_list = ['mango','cherry', 'banana', 'orange', 'apple', 'papaya']\n"
   ]
  },
  {
   "cell_type": "code",
   "execution_count": 14,
   "id": "58fef8b4-797b-4f26-87cd-29f0dbd62416",
   "metadata": {},
   "outputs": [
    {
     "name": "stdout",
     "output_type": "stream",
     "text": [
      "mango\n",
      "cherry\n",
      "banana\n",
      "orange\n",
      "the fruit is apple\n"
     ]
    }
   ],
   "source": [
    "for i in fruit_list:\n",
    "    if i=='apple':\n",
    "        print('the fruit is apple')\n",
    "        break #statement is used for stopping loop \n",
    "    print(i)"
   ]
  },
  {
   "cell_type": "code",
   "execution_count": 15,
   "id": "4a2cac2c-8941-4cc8-b5a2-f41549e1bfba",
   "metadata": {},
   "outputs": [
    {
     "name": "stdout",
     "output_type": "stream",
     "text": [
      "mango\n",
      "cherry\n",
      "banana\n",
      "orange\n",
      "the fruit is apple\n",
      "papaya\n"
     ]
    }
   ],
   "source": [
    "for i in fruit_list:\n",
    "    if i=='apple':\n",
    "        print('the fruit is apple')\n",
    "        continue #statement is used for skipping the loop \n",
    "    print(i)"
   ]
  },
  {
   "cell_type": "code",
   "execution_count": 16,
   "id": "d3ca55b0-41ca-4c1a-8731-3cb73ed29ba2",
   "metadata": {},
   "outputs": [
    {
     "name": "stdout",
     "output_type": "stream",
     "text": [
      "mango\n",
      "cherry\n",
      "banana\n",
      "orange\n",
      "the fruit is apple\n",
      "apple\n",
      "papaya\n"
     ]
    }
   ],
   "source": [
    "for i in fruit_list:\n",
    "    if i=='apple':\n",
    "        print('the fruit is apple')\n",
    "        pass #statement is used for allowing the identity to pass through the loop \n",
    "    print(i)"
   ]
  },
  {
   "cell_type": "code",
   "execution_count": null,
   "id": "cd45e3d6-80ac-4037-ac21-a1f43bdc218a",
   "metadata": {},
   "outputs": [],
   "source": []
  }
 ],
 "metadata": {
  "kernelspec": {
   "display_name": "Python 3 (ipykernel)",
   "language": "python",
   "name": "python3"
  },
  "language_info": {
   "codemirror_mode": {
    "name": "ipython",
    "version": 3
   },
   "file_extension": ".py",
   "mimetype": "text/x-python",
   "name": "python",
   "nbconvert_exporter": "python",
   "pygments_lexer": "ipython3",
   "version": "3.10.8"
  }
 },
 "nbformat": 4,
 "nbformat_minor": 5
}
